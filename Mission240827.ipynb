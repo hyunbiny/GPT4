{
 "cells": [
  {
   "cell_type": "code",
   "execution_count": 1,
   "metadata": {},
   "outputs": [
    {
     "name": "stdout",
     "output_type": "stream",
     "text": [
      "In the forest deep,\n",
      "나무 stands tall and proud,\n",
      "Whispers of the wind.This poem reflects the traditional Japanese poetic form known as haiku. Haiku typically consists of three lines with a 5-7-5 syllable pattern. In this particular haiku, the poet describes a scene in a deep forest where a tall tree stands proudly. The mention of the wind's whispers adds a sense of tranquility and natural beauty to the imagery. The simplicity and brevity of haiku often aim to evoke a moment of contemplation or a connection with nature."
     ]
    },
    {
     "data": {
      "text/plain": [
       "AIMessageChunk(content=\"This poem reflects the traditional Japanese poetic form known as haiku. Haiku typically consists of three lines with a 5-7-5 syllable pattern. In this particular haiku, the poet describes a scene in a deep forest where a tall tree stands proudly. The mention of the wind's whispers adds a sense of tranquility and natural beauty to the imagery. The simplicity and brevity of haiku often aim to evoke a moment of contemplation or a connection with nature.\")"
      ]
     },
     "execution_count": 1,
     "metadata": {},
     "output_type": "execute_result"
    }
   ],
   "source": [
    "from langchain.chat_models import ChatOpenAI\n",
    "from langchain.prompts import ChatPromptTemplate\n",
    "from langchain.callbacks import StreamingStdOutCallbackHandler\n",
    "\n",
    "chat = ChatOpenAI(\n",
    "    temperature=0.1,\n",
    "    streaming=True,\n",
    "    callbacks=[\n",
    "        StreamingStdOutCallbackHandler(),\n",
    "    ],\n",
    ")\n",
    "\n",
    "japanese_poetry_prompt = ChatPromptTemplate.from_messages(\n",
    "    [\n",
    "        (\n",
    "            \"system\",\n",
    "            \"You are a poet specialized in writing traditional Japanese poetry (like Haiku or Tanka) based on given topics.\",\n",
    "        ),\n",
    "        (\"human\", \"Write a traditional Japanese poem about {topic}.\"),\n",
    "    ]\n",
    ")\n",
    "\n",
    "poetry_chain  = japanese_poetry_prompt | chat\n",
    "\n",
    "explanation_prompt = ChatPromptTemplate.from_messages(\n",
    "    [\n",
    "        (\n",
    "            \"system\",\n",
    "            \"You are a literary expert specializing in explaining traditional Japanese poetry.\",\n",
    "        ),\n",
    "        (\"human\", \"Explain this Japanese poem: {poem}\"),\n",
    "    ]\n",
    ")\n",
    "\n",
    "explanation_chain = explanation_prompt | chat\n",
    "\n",
    "final_chain =  {\"poem\": poetry_chain}| explanation_chain\n",
    "\n",
    "final_chain.invoke({\"topic\": \"나무\"})\n",
    "\n"
   ]
  },
  {
   "cell_type": "code",
   "execution_count": null,
   "metadata": {},
   "outputs": [],
   "source": []
  }
 ],
 "metadata": {
  "kernelspec": {
   "display_name": "env",
   "language": "python",
   "name": "python3"
  },
  "language_info": {
   "codemirror_mode": {
    "name": "ipython",
    "version": 3
   },
   "file_extension": ".py",
   "mimetype": "text/x-python",
   "name": "python",
   "nbconvert_exporter": "python",
   "pygments_lexer": "ipython3",
   "version": "3.11.6"
  }
 },
 "nbformat": 4,
 "nbformat_minor": 2
}
