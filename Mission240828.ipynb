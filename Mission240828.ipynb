{
 "cells": [
  {
   "cell_type": "code",
   "execution_count": 1,
   "metadata": {},
   "outputs": [
    {
     "data": {
      "text/plain": [
       "AIMessage(content='\\n        **제목**: 기생충\\n        **감독**: 봉준호\\n        **주요 출연진**: 송강호, 이선균, 조여정\\n        **예산**: 약 1천 1백만 달러\\n        **흥행 수익**: 약 2억 6천만 달러\\n        **장르**: 드라마, 스릴러, 흑색 코미디\\n        **줄거리**: 한 가족이 부자 가정의 사랑받는 가정에 침입하여 가정교사로 취업하며 벌어지는 사건들을 통해 사회 구조와 계급 간의 갈등을 그린 영화.\\n        ')"
      ]
     },
     "execution_count": 1,
     "metadata": {},
     "output_type": "execute_result"
    }
   ],
   "source": [
    "from langchain.chat_models import ChatOpenAI\n",
    "from langchain.prompts.few_shot import FewShotChatMessagePromptTemplate\n",
    "from langchain.prompts import ChatMessagePromptTemplate, ChatPromptTemplate\n",
    "\n",
    "chat = ChatOpenAI(temperature=0.1)\n",
    "examples = [\n",
    "    {\n",
    "        \"movie_name\": \"명량\",\n",
    "        \"answer\": \"\"\"\n",
    "        **제목**: 명량\n",
    "        **감독**: 김한민\n",
    "        **주요 출연진**: 최민식, 류승룡, 조진웅\n",
    "        **예산**: 1천 6백만 달러\n",
    "        **흥행 수익**: 약 1억 3천만 달러\n",
    "        **장르**: 역사, 전쟁, 드라마\n",
    "        **줄거리**: 임진왜란 당시 조선의 이순신 장군이 이끄는 조선 수군이 일본군과의 명량 해전에서 벌이는 치열한 전투를 그린 영화.\n",
    "        \"\"\"\n",
    "    },\n",
    "    {\n",
    "        \"movie_name\": \"부산행\",\n",
    "        \"answer\": \"\"\"\n",
    "        **제목**: 부산행\n",
    "        **감독**: 연상호\n",
    "        **주요 출연진**: 공유, 마동석, 김수안\n",
    "        **예산**: 약 8백만 달러\n",
    "        **흥행 수익**: 약 9천 8백만 달러\n",
    "        **장르**: 액션, 스릴러, 좀비\n",
    "        **줄거리**: 좀비 바이러스가 대한민국을 강타한 가운데, 생존자들이 서울에서 부산으로 가는 기차에서 살아남기 위해 싸우는 과정을 그린 영화.\n",
    "        \"\"\"\n",
    "    },\n",
    "    {\n",
    "        \"movie_name\": \"올드보이\",\n",
    "        \"answer\": \"\"\"\n",
    "        **제목**: 올드보이\n",
    "        **감독**: 박찬욱\n",
    "        **주요 출연진**: 최민식, 유지태, 강혜정\n",
    "        **예산**: 약 3백만 달러\n",
    "        **흥행 수익**: 약 1천 5백만 달러\n",
    "        **장르**: 스릴러, 드라마, 미스터리\n",
    "        **줄거리**: 이유도 모른 채 15년간 감금된 남자가 풀려난 뒤, 자신의 감금 배경을 찾아 복수하는 과정을 그린 영화.\n",
    "        \"\"\"\n",
    "    }\n",
    "]\n",
    "\n",
    "example_prompt = ChatPromptTemplate.from_messages(\n",
    "    [\n",
    "        (\"human\", \"영화 {movie_name}에 대해 알려줄 수 있나요?\"),\n",
    "        (\"ai\", \"{answer}\"),\n",
    "    ]\n",
    ")\n",
    "\n",
    "example_prompt = FewShotChatMessagePromptTemplate(\n",
    "    example_prompt=example_prompt,\n",
    "    examples=examples,\n",
    ")\n",
    "\n",
    "final_prompt = ChatPromptTemplate.from_messages(\n",
    "    [\n",
    "        (\"system\", \"당신은 영화 전문가입니다. 영화를 간단하고 일관된 형식으로 설명해 주세요.\"),\n",
    "        example_prompt,\n",
    "        (\"human\", \"영화 {movie_name}에 대해 알려줄 수 있나요?\"),\n",
    "    ]\n",
    ")\n",
    "\n",
    "chain = final_prompt | chat\n",
    "\n",
    "chain.invoke({\"movie_name\": \"기생충\"})\n"
   ]
  },
  {
   "cell_type": "code",
   "execution_count": null,
   "metadata": {},
   "outputs": [],
   "source": []
  }
 ],
 "metadata": {
  "kernelspec": {
   "display_name": "env",
   "language": "python",
   "name": "python3"
  },
  "language_info": {
   "codemirror_mode": {
    "name": "ipython",
    "version": 3
   },
   "file_extension": ".py",
   "mimetype": "text/x-python",
   "name": "python",
   "nbconvert_exporter": "python",
   "pygments_lexer": "ipython3",
   "version": "3.11.6"
  }
 },
 "nbformat": 4,
 "nbformat_minor": 2
}
